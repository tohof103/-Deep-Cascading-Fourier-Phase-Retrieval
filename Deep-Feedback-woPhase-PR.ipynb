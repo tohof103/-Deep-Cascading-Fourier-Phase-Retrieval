{
 "cells": [
  {
   "cell_type": "markdown",
   "metadata": {},
   "source": [
    "Define imports"
   ]
  },
  {
   "cell_type": "code",
   "execution_count": null,
   "metadata": {},
   "outputs": [],
   "source": [
    "import torch\n",
    "import torch.nn as nn\n",
    "import torch.nn.functional as F\n",
    "import torch.optim as optim\n",
    "import os\n",
    "import time\n",
    "import random\n",
    "\n",
    "from fourier import fft2WoSq, magnitude, phase, fft2\n",
    "from pics import greypic, blackpic, meanpic, DFPRwoPhsaveToPDF\n",
    "from tests import DFPRwoPhtest\n",
    "from models import DFSigmoidNet, ConvNet\n",
    "from loader import load\n",
    "torch.manual_seed(17)\n",
    "random.seed(0)"
   ]
  },
  {
   "cell_type": "markdown",
   "metadata": {},
   "source": [
    "Define initialization"
   ]
  },
  {
   "cell_type": "code",
   "execution_count": null,
   "metadata": {},
   "outputs": [],
   "source": [
    "def init(new, Net, NUM_Of_Nets, netsize, device, lr, targetsize, dataset):\n",
    "    '''\n",
    "    Initializes/loads networks and optimizer\n",
    "    Parameters:\n",
    "    -----------\n",
    "        new: boolean\n",
    "            Create new network or use previous if existing\n",
    "        Net: nn.module class\n",
    "            Class of network to be used\n",
    "        NUM_Of_Nets: int\n",
    "            Number of networks\n",
    "        netsize: int array\n",
    "            Sizes of fully connected layers of networks\n",
    "        device: torch.device\n",
    "            device to initialize the networks to\n",
    "        lr: float\n",
    "            Learning rate for optimizer\n",
    "        targetsize: int array\n",
    "            Size of the target images as Array (channels, height, width)\n",
    "        dataset: string\n",
    "            Name of dataset to load old network\n",
    "    Returns:\n",
    "    --------\n",
    "        nets: nn.module array\n",
    "        optimizer: torch.optim\n",
    "    '''\n",
    "    nets = []\n",
    "    optimizer = []\n",
    "    for i in range(NUM_Of_Nets):\n",
    "        if os.path.isfile('Nets/{}/DFPRwoPh{}{}.pt'.format(dataset, netsize, i)):\n",
    "            if(new):\n",
    "                os.remove('Nets/{}/DFPRwoPh{}{}.pt'.format(dataset, netsize, i))\n",
    "                print('deleted old Net')\n",
    "                nets.append(Net(imsize=targetsize, outsize=targetsize, h = netsize))\n",
    "            else:\n",
    "                print('loaded previous Net')\n",
    "                nets.append(torch.load('Nets/{}/DFPRwoPh{}{}.pt'.format(dataset, netsize, i)))\n",
    "        else:\n",
    "            nets.append(Net(imsize=targetsize, outsize=targetsize, h = netsize))\n",
    "        \n",
    "        nets[i] = nets[i].to(device)        \n",
    "        optimizer.append(optim.Adam(nets[i].parameters(), lr = lr))    \n",
    "    return nets, optimizer"
   ]
  },
  {
   "cell_type": "markdown",
   "metadata": {},
   "source": [
    "Define training"
   ]
  },
  {
   "cell_type": "code",
   "execution_count": null,
   "metadata": {},
   "outputs": [],
   "source": [
    "def train_epoch(epoch, NUM_Of_Nets, device, startpic, nets, optimizer, losses, train_data):\n",
    "    '''\n",
    "    Trains networks for one epoch\n",
    "    Parameters:\n",
    "    -----------\n",
    "        epoch: int\n",
    "            Current epoch number\n",
    "        NUM_Of_Nets: int\n",
    "            Number of networks\n",
    "        device: torch.device\n",
    "            device to train on\n",
    "        startpic: float array\n",
    "            Start image to feed to first network\n",
    "        nets: nn.module array\n",
    "            Array of networks to train\n",
    "        optimizer: torch.optim array\n",
    "            Array of optimizer for training\n",
    "        losses: (loss-)function array\n",
    "            Array of losses used to train each network\n",
    "        train_data: dataloader\n",
    "            Dataloader of training data        \n",
    "    Returns:\n",
    "    --------\n",
    "        -\n",
    "    '''\n",
    "    tot_loss = 0\n",
    "    \n",
    "    for net in nets:\n",
    "        net.train()\n",
    "            \n",
    "    for target in train_data:\n",
    "        target = target.to(device)\n",
    "        x = startpic.to(device)\n",
    "        measurement = magnitude(fft2WoSq(target)).to(device)\n",
    "        \n",
    "        for step in range(NUM_Of_Nets):\n",
    "            x = x.detach()\n",
    "            delta_y = magnitude(fft2WoSq(x)) - measurement\n",
    "            \n",
    "            optimizer[step].zero_grad()\n",
    "            out = nets[step](delta_y)\n",
    "                \n",
    "            out = out * ((0.5-(step%2))*2)    #alternating addition and substraction        \n",
    "            x = torch.clamp(x + out, 0, 1)\n",
    "            \n",
    "            criterion = losses[step]            \n",
    "            loss = criterion(x, target)            \n",
    "            loss.backward()            \n",
    "            optimizer[step].step()\n",
    "            \n",
    "        tot_loss = tot_loss + loss.item()\n",
    "        \n",
    "    print('Epoche: {:3.0f} | Loss: {:.6f}'.format(epoch, tot_loss/len(train_data)))\n",
    "\n",
    "def train(NUM_Of_Nets, device, startpic, nets, optimizer, losses, data, num_epochs):\n",
    "    '''\n",
    "    Trains networks for given number of epochs\n",
    "    Parameters:\n",
    "    -----------\n",
    "        NUM_Of_Nets: int\n",
    "            Number of networks\n",
    "        device: torch.device\n",
    "            device to train on\n",
    "        startpic: float array\n",
    "            Start image to feed to first network\n",
    "        nets: nn.module array\n",
    "            Array of networks to train\n",
    "        optimizer: torch.optim array\n",
    "            Array of optimizer for training\n",
    "        losses: (loss-)function array\n",
    "            Array of losses used to train each network\n",
    "        data: dataloader array\n",
    "            Dataloader of dataset data \n",
    "        num_epochs: int\n",
    "            Number of epochs to train\n",
    "    Returns:\n",
    "    --------\n",
    "        -\n",
    "    '''\n",
    "    train_data = data['train']\n",
    "    val_data = data['val']\n",
    "    print(\"========================================\")\n",
    "    for epoch in range(1, num_epochs + 1):\n",
    "        train_epoch(epoch, NUM_Of_Nets, device, startpic, nets, optimizer, losses, train_data)\n",
    "        if epoch % 20 == 0:\n",
    "            DFPRwoPhtest(nets, val_data, startpic, NUM_Of_Nets, device, True, False)"
   ]
  },
  {
   "cell_type": "markdown",
   "metadata": {},
   "source": [
    "Set hyperparameters"
   ]
  },
  {
   "cell_type": "code",
   "execution_count": null,
   "metadata": {},
   "outputs": [],
   "source": [
    "new = False\n",
    "save = False\n",
    "dataset = 'mnist'\n",
    "Net = DFSigmoidNet     #ConvNet for CelebA, DFSigmoidNet for (fashion-)MNIST\n",
    "NUM_Of_Nets = 5\n",
    "device = torch.device(\"cuda:0\")\n",
    "netsize = 1700\n",
    "lr = 0.0001\n",
    "startpicgen = greypic\n",
    "losses = [nn.MSELoss(), nn.MSELoss(), nn.MSELoss(), nn.L1Loss(), nn.L1Loss()] "
   ]
  },
  {
   "cell_type": "markdown",
   "metadata": {},
   "source": [
    "Initializing, training and possible saving"
   ]
  },
  {
   "cell_type": "code",
   "execution_count": null,
   "metadata": {},
   "outputs": [],
   "source": [
    "data, targetsize = load(name = dataset)                            #For (fashion-)MNIST\n",
    "#data, targetsize = load(name = 'celeba', path=\"CelebA/CelebA.h5\")   #For CelebA\n",
    "\n",
    "nets, optimizer = init(new, Net, NUM_Of_Nets, netsize, device, lr, targetsize, dataset)\n",
    "startpic = startpicgen(targetsize[0], targetsize[1])\n",
    "\n",
    "start_proc = time.process_time() \n",
    "train(NUM_Of_Nets, device, startpic, nets, optimizer, losses, data, num_epochs = 100)\n",
    "ende_proc = time.process_time()\n",
    "print('Systemzeit: {:5.3f}s'.format(ende_proc-start_proc))\n",
    "\n",
    "if save:\n",
    "    for i in range(NUM_Of_Nets):\n",
    "        torch.save(nets[i], 'Nets/{}/DFPRwoPh{}{}.pt'.format(dataset, netsize, i))\n",
    "        print('DFPRwoPh{}{} saved'.format(netsize, i))"
   ]
  },
  {
   "cell_type": "markdown",
   "metadata": {},
   "source": [
    "Tests and print to PDF"
   ]
  },
  {
   "cell_type": "code",
   "execution_count": null,
   "metadata": {},
   "outputs": [],
   "source": [
    "test_data = data['test']\n",
    "val_data = data['val']\n",
    "DFPRwoPhtest(nets, test_data, startpic, NUM_Of_Nets, device, True, False)\n",
    "#DFPRwoPhsaveToPDF(nets, val_data, startpic, NUM_Of_Nets, device)"
   ]
  },
  {
   "cell_type": "code",
   "execution_count": null,
   "metadata": {},
   "outputs": [],
   "source": []
  }
 ],
 "metadata": {
  "kernelspec": {
   "display_name": "Python 3",
   "language": "python",
   "name": "python3"
  },
  "language_info": {
   "codemirror_mode": {
    "name": "ipython",
    "version": 3
   },
   "file_extension": ".py",
   "mimetype": "text/x-python",
   "name": "python",
   "nbconvert_exporter": "python",
   "pygments_lexer": "ipython3",
   "version": "3.7.9"
  }
 },
 "nbformat": 4,
 "nbformat_minor": 4
}
